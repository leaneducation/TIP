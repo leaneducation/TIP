{
  "metadata": {
    "language_info": {
      "codemirror_mode": {
        "name": "python",
        "version": 3
      },
      "file_extension": ".py",
      "mimetype": "text/x-python",
      "name": "python",
      "nbconvert_exporter": "python",
      "pygments_lexer": "ipython3",
      "version": "3.8"
    },
    "kernelspec": {
      "name": "python",
      "display_name": "Python (Pyodide)",
      "language": "python"
    }
  },
  "nbformat_minor": 4,
  "nbformat": 4,
  "cells": [
    {
      "cell_type": "code",
      "source": "# Hello Sunny Notebook\n",
      "metadata": {},
      "execution_count": null,
      "outputs": []
    },
    {
      "cell_type": "markdown",
      "source": "# Introduction\n\nWelcome to this notebook! In this notebook, we will explore various concepts related to data science, including languages, libraries, and tools commonly used in the field. We will also explore some basic arithmetic expressions and conversions. Let's get started!\n",
      "metadata": {}
    },
    {
      "cell_type": "code",
      "source": "# Data Science Languages\n\n- Python\n- R\n- Julia\n- SAS\n- SQL\n",
      "metadata": {},
      "execution_count": null,
      "outputs": []
    },
    {
      "cell_type": "code",
      "source": "## Data Science Libraries\n\nSome of the popular data science libraries are:\n\n- NumPy\n- Pandas\n- Matplotlib\n- Seaborn\n- Scikit-learn\n- TensorFlow\n- PyTorch\n- Keras\n- Statsmodels\n",
      "metadata": {},
      "execution_count": null,
      "outputs": []
    },
    {
      "cell_type": "code",
      "source": "| Tool           | Description                            | Language     |\n| --------------|----------------------------------------|--------------|\n| Pandas         | Data manipulation and analysis         | Python       |\n| NumPy          | Numerical computing library             | Python       |\n| Matplotlib     | Data visualization library              | Python       |\n| Scikit-learn   | Machine learning library                | Python       |\n| TensorFlow    | Open-source platform for ML             | Python       |\n| Keras          | Deep Learning API                       | Python       |\n| PyTorch        | ML library for computer vision          | Python       |\n| ggplot2        | Data visualization library              | R            |\n| dplyr          | Data manipulation and analysis         | R            |\n| caret          | ML library                              | R            |\n| tidyr          | Data wrangling                          | R            |\n| Shiny          | Interactive visualization               | R            |\n| KNIME          | Data mining and analysis                | Java         |\n| RapidMiner     | Machine learning library                | Java         |\n| WEKA           | Data mining and ML library              | Java         |\n| MATLAB         | Data analysis and visualization         | MATLAB       |\n| Octave         | High-level language for numerical calc. | MATLAB       |\n| Tableau        | Business intelligence and analytics     | SQL          |\n| Power BI       | Business analytics and visualization    | SQL          |\n| Apache Spark   | Big data processing engine              | Scala/Python |\n| Hadoop         | Big data storage and processing         | Java         |\n| Hive           | Data warehousing and SQL-like queries   | SQL          |\n",
      "metadata": {},
      "execution_count": null,
      "outputs": []
    },
    {
      "cell_type": "code",
      "source": "# Arithmetic Expression Examples\n\nArithmetic expressions involve mathematical operations such as addition, subtraction, multiplication, and division. These expressions follow the standard order of operations (PEMDAS) and can include parentheses to modify the order of operations.\n\nExamples of arithmetic expressions include:\n\n- `2 + 3`: adds 2 and 3, resulting in 5\n- `4 * 5`: multiplies 4 and 5, resulting in 20\n- `8 / 2`: divides 8 by 2, resulting in 4\n- `(4 + 5) * 2`: adds 4 and 5, then multiplies by 2, resulting in 18\n",
      "metadata": {},
      "execution_count": null,
      "outputs": []
    },
    {
      "cell_type": "code",
      "source": "# Multiplying and adding numbers\nx = 10\ny = 5\nprint(x*y)  # Output: 50\nprint(x+y)  # Output: 15\n",
      "metadata": {},
      "execution_count": null,
      "outputs": []
    },
    {
      "cell_type": "code",
      "source": "minutes = 120\nhours = minutes / 60\nprint(\"120 minutes is equal to\", hours, \"hours\")\n",
      "metadata": {},
      "execution_count": null,
      "outputs": []
    },
    {
      "cell_type": "code",
      "source": "## Objectives\n\n- Learn and understand the basics of data science\n- Gain proficiency in at least one programming language for data science\n- Familiarize oneself with popular data science libraries and tools\n- Develop the skills necessary to collect, analyze, and interpret data\n- Apply data science techniques to solve real-world problems\n",
      "metadata": {},
      "execution_count": null,
      "outputs": []
    },
    {
      "cell_type": "code",
      "source": "## Author: [Your Name Here]\n## Author: Sunny Nanade\n",
      "metadata": {},
      "execution_count": null,
      "outputs": []
    }
  ]
}